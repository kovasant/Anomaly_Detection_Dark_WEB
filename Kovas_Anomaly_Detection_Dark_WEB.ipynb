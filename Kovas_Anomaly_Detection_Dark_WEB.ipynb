{
  "nbformat": 4,
  "nbformat_minor": 0,
  "metadata": {
    "colab": {
      "provenance": [],
      "include_colab_link": true
    },
    "kernelspec": {
      "name": "python3",
      "display_name": "Python 3"
    },
    "language_info": {
      "name": "python"
    }
  },
  "cells": [
    {
      "cell_type": "markdown",
      "metadata": {
        "id": "view-in-github",
        "colab_type": "text"
      },
      "source": [
        "<a href=\"https://colab.research.google.com/github/kovasant/Anomaly_Detection_Dark_WEB/blob/main/Kovas_Anomaly_Detection_Dark_WEB.ipynb\" target=\"_parent\"><img src=\"https://colab.research.google.com/assets/colab-badge.svg\" alt=\"Open In Colab\"/></a>"
      ]
    },
    {
      "cell_type": "code",
      "source": [
        "#εγκατάσταση πακέτου PyOD (https://pyod.readthedocs.io/en/latest/)\n",
        "!pip install pyod"
      ],
      "metadata": {
        "colab": {
          "base_uri": "https://localhost:8080/"
        },
        "id": "7y4_o32EG8c0",
        "outputId": "8adf8d8a-2037-4cca-a438-8c288f479705"
      },
      "execution_count": 1,
      "outputs": [
        {
          "output_type": "stream",
          "name": "stdout",
          "text": [
            "Collecting pyod\n",
            "  Downloading pyod-1.1.3.tar.gz (160 kB)\n",
            "\u001b[2K     \u001b[90m━━━━━━━━━━━━━━━━━━━━━━━━━━━━━━━━━━━━━━━━\u001b[0m \u001b[32m160.5/160.5 kB\u001b[0m \u001b[31m2.8 MB/s\u001b[0m eta \u001b[36m0:00:00\u001b[0m\n",
            "\u001b[?25h  Preparing metadata (setup.py) ... \u001b[?25l\u001b[?25hdone\n",
            "Requirement already satisfied: joblib in /usr/local/lib/python3.10/dist-packages (from pyod) (1.4.2)\n",
            "Requirement already satisfied: matplotlib in /usr/local/lib/python3.10/dist-packages (from pyod) (3.7.1)\n",
            "Requirement already satisfied: numpy>=1.19 in /usr/local/lib/python3.10/dist-packages (from pyod) (1.25.2)\n",
            "Requirement already satisfied: numba>=0.51 in /usr/local/lib/python3.10/dist-packages (from pyod) (0.58.1)\n",
            "Requirement already satisfied: scipy>=1.5.1 in /usr/local/lib/python3.10/dist-packages (from pyod) (1.11.4)\n",
            "Requirement already satisfied: scikit_learn>=0.22.0 in /usr/local/lib/python3.10/dist-packages (from pyod) (1.2.2)\n",
            "Requirement already satisfied: six in /usr/local/lib/python3.10/dist-packages (from pyod) (1.16.0)\n",
            "Requirement already satisfied: llvmlite<0.42,>=0.41.0dev0 in /usr/local/lib/python3.10/dist-packages (from numba>=0.51->pyod) (0.41.1)\n",
            "Requirement already satisfied: threadpoolctl>=2.0.0 in /usr/local/lib/python3.10/dist-packages (from scikit_learn>=0.22.0->pyod) (3.5.0)\n",
            "Requirement already satisfied: contourpy>=1.0.1 in /usr/local/lib/python3.10/dist-packages (from matplotlib->pyod) (1.2.1)\n",
            "Requirement already satisfied: cycler>=0.10 in /usr/local/lib/python3.10/dist-packages (from matplotlib->pyod) (0.12.1)\n",
            "Requirement already satisfied: fonttools>=4.22.0 in /usr/local/lib/python3.10/dist-packages (from matplotlib->pyod) (4.51.0)\n",
            "Requirement already satisfied: kiwisolver>=1.0.1 in /usr/local/lib/python3.10/dist-packages (from matplotlib->pyod) (1.4.5)\n",
            "Requirement already satisfied: packaging>=20.0 in /usr/local/lib/python3.10/dist-packages (from matplotlib->pyod) (24.0)\n",
            "Requirement already satisfied: pillow>=6.2.0 in /usr/local/lib/python3.10/dist-packages (from matplotlib->pyod) (9.4.0)\n",
            "Requirement already satisfied: pyparsing>=2.3.1 in /usr/local/lib/python3.10/dist-packages (from matplotlib->pyod) (3.1.2)\n",
            "Requirement already satisfied: python-dateutil>=2.7 in /usr/local/lib/python3.10/dist-packages (from matplotlib->pyod) (2.8.2)\n",
            "Building wheels for collected packages: pyod\n",
            "  Building wheel for pyod (setup.py) ... \u001b[?25l\u001b[?25hdone\n",
            "  Created wheel for pyod: filename=pyod-1.1.3-py3-none-any.whl size=190250 sha256=cd8d9e7c538e1558822517c708b7af05e9f30cd33ed1a6bfc82b2f471caf72f0\n",
            "  Stored in directory: /root/.cache/pip/wheels/05/f8/db/124d43bec122d6ec0ab3713fadfe25ebed8af52ec561682b4e\n",
            "Successfully built pyod\n",
            "Installing collected packages: pyod\n",
            "Successfully installed pyod-1.1.3\n"
          ]
        }
      ]
    },
    {
      "cell_type": "code",
      "source": [
        "#εισαγωγή βιβλιοθηκών - πακέτων\n",
        "import pandas as pd\n",
        "import numpy as np\n",
        "import matplotlib.pyplot as plt\n",
        "import seaborn as sns\n",
        "from sklearn.ensemble import IsolationForest\n",
        "from pyod.models.iforest import IForest\n",
        "from pyod.utils.data import evaluate_print"
      ],
      "metadata": {
        "id": "ZuEgP2MsOGWs"
      },
      "execution_count": 4,
      "outputs": []
    },
    {
      "cell_type": "code",
      "source": [
        "#Φόρτωση δεδομένων Dark Web - αρχείο csv\n",
        "url = \"https://raw.githubusercontent.com/kdemertzis/EKPA/main/Data/DarkNet.csv\"\n",
        "data = pd.read_csv(url, low_memory=False)"
      ],
      "metadata": {
        "id": "d3FfkblWOOy7"
      },
      "execution_count": 6,
      "outputs": []
    },
    {
      "cell_type": "code",
      "source": [
        "#Προεπεξεργασία δεδομένων - Αφαίρεση μη έγκυρων τιμών και κανονικοποίηση δεδομένων\n",
        "data = data.select_dtypes(include=[np.number]) # Αφαίρεση μη αριθμητικών στηλών\n",
        "data = data.dropna()  # Αφαίρεση μη έγκυρων εγγραφών\n",
        "data_sample = data.sample(frac=0.1, random_state=42) # Δειγματοληψία δεδομένων για ταχύτητα 10% του συνόλου\n",
        "#data_normalized = (data - data.min()) / (data.max() - data.min())  # Κανονικοποίηση\n",
        "data_normalized = (data_sample - data_sample.min()) / (data_sample.max() - data_sample.min()) # Κανονικοποίηση"
      ],
      "metadata": {
        "id": "n7sMm4xAOTut"
      },
      "execution_count": 7,
      "outputs": []
    },
    {
      "cell_type": "code",
      "source": [
        "#Ανάλυση των δεδομένων του παραδείγματος - Η διαδικασία διαρκεί αρκετό χρόνο\n",
        "sns.pairplot(data_normalized)\n",
        "plt.show()"
      ],
      "metadata": {
        "id": "gFY780eBOWvB"
      },
      "execution_count": null,
      "outputs": []
    },
    {
      "cell_type": "code",
      "source": [
        "#Χρήση του αλγορίθμου Isolation Forest για Ανίχνευση ανωμαλιών\n",
        "clf = IForest(contamination=0.1)  # Καθορισμός ποσοστού ανωμαλιών\n",
        "clf.fit(data_normalized)"
      ],
      "metadata": {
        "id": "s07WILloOZPj"
      },
      "execution_count": null,
      "outputs": []
    },
    {
      "cell_type": "code",
      "source": [
        "# Πρόβλεψη και αξιολόγηση\n",
        "y_pred = clf.labels_\n",
        "evaluate_print('IForest', y, y_pred)"
      ],
      "metadata": {
        "id": "LnZEmZTpObp5"
      },
      "execution_count": null,
      "outputs": []
    }
  ]
}